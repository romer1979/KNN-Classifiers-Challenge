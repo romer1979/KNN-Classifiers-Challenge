{
 "cells": [
  {
   "cell_type": "code",
   "execution_count": 2,
   "metadata": {},
   "outputs": [],
   "source": [
    "import numpy as np\n",
    "import pandas as pd"
   ]
  },
  {
   "cell_type": "code",
   "execution_count": 3,
   "metadata": {},
   "outputs": [],
   "source": [
    "music = pd.DataFrame()\n",
    "\n",
    "music['duration'] = [184, 134, 243, 186, 122, 197, 294, 382, 102, 264, \n",
    "                     205, 110, 307, 110, 397, 153, 190, 192, 210, 403,\n",
    "                     164, 198, 204, 253, 234, 190, 182, 401, 376, 102]\n",
    "music['loudness'] = [18, 34, 43, 36, 22, 9, 29, 22, 10, 24, \n",
    "                     20, 10, 17, 51, 7, 13, 19, 12, 21, 22,\n",
    "                     16, 18, 4, 23, 34, 19, 14, 11, 37, 42]\n",
    "\n",
    "# We know whether the songs in our training data are jazz or not.\n",
    "music['jazz'] = [ 1, 0, 0, 0, 1, 1, 0, 1, 1, 0,\n",
    "                  0, 1, 1, 0, 1, 1, 0, 1, 1, 1,\n",
    "                  1, 1, 1, 1, 0, 0, 1, 1, 0, 0]"
   ]
  },
  {
   "cell_type": "code",
   "execution_count": 4,
   "metadata": {},
   "outputs": [],
   "source": [
    "def distance (music, loudness, duration, k):\n",
    "    music['loudness_sq'] = music['loudness'].apply(lambda x: (x - loudness)**2)\n",
    "    music['duration_sq'] = music['duration'].apply(lambda x: (x - duration)**2)\n",
    "    music['eucladian_distance'] = (music['loudness_sq'] + music['duration_sq'])**0.5\n",
    "    return np.argsort(music['eucladian_distance'])[:k]"
   ]
  },
  {
   "cell_type": "code",
   "execution_count": 6,
   "metadata": {},
   "outputs": [
    {
     "name": "stdout",
     "output_type": "stream",
     "text": [
      "Music is not Jazz\n"
     ]
    }
   ],
   "source": [
    "if music['jazz'][distance(music, 24, 190, 1)].mean() > 0.5:\n",
    "    print (\"Music is Jazz\")\n",
    "else:\n",
    "    print(\"Music is not Jazz\")"
   ]
  },
  {
   "cell_type": "code",
   "execution_count": 7,
   "metadata": {},
   "outputs": [
    {
     "name": "stdout",
     "output_type": "stream",
     "text": [
      "Music is Jazz\n"
     ]
    }
   ],
   "source": [
    "if music['jazz'][distance(music, 24, 190, 5)].mean() > 0.5:\n",
    "    print (\"Music is Jazz\")\n",
    "else:\n",
    "    print(\"Music is not Jazz\")"
   ]
  }
 ],
 "metadata": {
  "kernelspec": {
   "display_name": "Python 3",
   "language": "python",
   "name": "python3"
  },
  "language_info": {
   "codemirror_mode": {
    "name": "ipython",
    "version": 3
   },
   "file_extension": ".py",
   "mimetype": "text/x-python",
   "name": "python",
   "nbconvert_exporter": "python",
   "pygments_lexer": "ipython3",
   "version": "3.7.3"
  }
 },
 "nbformat": 4,
 "nbformat_minor": 2
}
